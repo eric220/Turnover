{
 "cells": [
  {
   "cell_type": "code",
   "execution_count": 1,
   "metadata": {},
   "outputs": [
    {
     "name": "stderr",
     "output_type": "stream",
     "text": [
      "Using TensorFlow backend.\n"
     ]
    }
   ],
   "source": [
    "import pandas as pd\n",
    "from keras.models import Sequential\n",
    "from keras.layers import Dense, Dropout, Activation\n",
    "from sklearn.preprocessing import MinMaxScaler, StandardScaler\n",
    "import numpy as np\n",
    "from keras.utils import to_categorical\n",
    "from keras.optimizers import SGD\n",
    "from sklearn.model_selection import StratifiedKFold, train_test_split\n",
    "from keras.layers.advanced_activations import LeakyReLU\n",
    "from keras.callbacks import ModelCheckpoint, ReduceLROnPlateau\n",
    "from sklearn.utils import shuffle\n",
    "import matplotlib.pyplot as plt\n",
    "from sklearn.metrics import confusion_matrix, roc_auc_score\n",
    "from keras import regularizers"
   ]
  },
  {
   "cell_type": "code",
   "execution_count": 2,
   "metadata": {
    "collapsed": true
   },
   "outputs": [],
   "source": [
    "labels = pd.read_csv('hr_labels.csv')\n",
    "features = pd.read_csv('hr_features.csv')"
   ]
  },
  {
   "cell_type": "code",
   "execution_count": 3,
   "metadata": {
    "collapsed": true
   },
   "outputs": [],
   "source": [
    "assert len(features) == len(labels)"
   ]
  },
  {
   "cell_type": "code",
   "execution_count": 4,
   "metadata": {
    "collapsed": true
   },
   "outputs": [],
   "source": [
    "x_train, x_test, y_train, y_test = train_test_split(features, labels, test_size=0.2, random_state=42)\n",
    "#y_test = pd.DataFrame(y_train)"
   ]
  },
  {
   "cell_type": "code",
   "execution_count": 5,
   "metadata": {
    "collapsed": true
   },
   "outputs": [],
   "source": [
    "y_train = pd.DataFrame(y_train)"
   ]
  },
  {
   "cell_type": "code",
   "execution_count": 6,
   "metadata": {},
   "outputs": [
    {
     "data": {
      "text/html": [
       "<div>\n",
       "<style>\n",
       "    .dataframe thead tr:only-child th {\n",
       "        text-align: right;\n",
       "    }\n",
       "\n",
       "    .dataframe thead th {\n",
       "        text-align: left;\n",
       "    }\n",
       "\n",
       "    .dataframe tbody tr th {\n",
       "        vertical-align: top;\n",
       "    }\n",
       "</style>\n",
       "<table border=\"1\" class=\"dataframe\">\n",
       "  <thead>\n",
       "    <tr style=\"text-align: right;\">\n",
       "      <th></th>\n",
       "      <th>0</th>\n",
       "    </tr>\n",
       "  </thead>\n",
       "  <tbody>\n",
       "    <tr>\n",
       "      <th>1097</th>\n",
       "      <td>0</td>\n",
       "    </tr>\n",
       "    <tr>\n",
       "      <th>727</th>\n",
       "      <td>0</td>\n",
       "    </tr>\n",
       "    <tr>\n",
       "      <th>254</th>\n",
       "      <td>0</td>\n",
       "    </tr>\n",
       "    <tr>\n",
       "      <th>1175</th>\n",
       "      <td>0</td>\n",
       "    </tr>\n",
       "    <tr>\n",
       "      <th>1341</th>\n",
       "      <td>0</td>\n",
       "    </tr>\n",
       "  </tbody>\n",
       "</table>\n",
       "</div>"
      ],
      "text/plain": [
       "      0\n",
       "1097  0\n",
       "727   0\n",
       "254   0\n",
       "1175  0\n",
       "1341  0"
      ]
     },
     "execution_count": 6,
     "metadata": {},
     "output_type": "execute_result"
    }
   ],
   "source": [
    "y_train[:5]"
   ]
  },
  {
   "cell_type": "code",
   "execution_count": 51,
   "metadata": {
    "collapsed": true
   },
   "outputs": [],
   "source": [
    "num_classes = 1\n",
    "input_shape = features.shape[1]\n",
    "activations = 'tanh'\n",
    "\n",
    "model = Sequential()\n",
    "model.add(Dense(input_shape, input_shape = (input_shape,), activation = activations,\n",
    "                kernel_regularizer = regularizers.l2(.001)))\n",
    "model.add(Dropout(0.6))\n",
    "model.add(Dense(64, activation = 'relu', kernel_regularizer = regularizers.l2(.001)))#1024\n",
    "model.add(Dropout(0.6))\n",
    "model.add(Dense(64, activation = 'relu', kernel_regularizer = regularizers.l2(.001)))#1024\n",
    "model.add(Dropout(0.6))\n",
    "model.add(Dense(1, activation = 'sigmoid'))"
   ]
  },
  {
   "cell_type": "code",
   "execution_count": 52,
   "metadata": {
    "collapsed": true
   },
   "outputs": [],
   "source": [
    "checkpoint = ModelCheckpoint(filepath = 'weightsz.hdf5', save_best_only = True, monitor='val_loss') \n",
    "reduce_lr = ReduceLROnPlateau(monitor='val_loss', factor=0.2, patience=50, min_lr=0.0001)\n",
    "                              #cooldown=100, verbose=1)"
   ]
  },
  {
   "cell_type": "code",
   "execution_count": 53,
   "metadata": {
    "collapsed": true
   },
   "outputs": [],
   "source": [
    "model.compile(loss = 'binary_crossentropy', optimizer = SGD(lr=0.0001, momentum = 0.9), metrics = ['accuracy'])"
   ]
  },
  {
   "cell_type": "code",
   "execution_count": 54,
   "metadata": {},
   "outputs": [
    {
     "name": "stdout",
     "output_type": "stream",
     "text": [
      "_________________________________________________________________\n",
      "Layer (type)                 Output Shape              Param #   \n",
      "=================================================================\n",
      "dense_21 (Dense)             (None, 48)                2352      \n",
      "_________________________________________________________________\n",
      "dropout_15 (Dropout)         (None, 48)                0         \n",
      "_________________________________________________________________\n",
      "dense_22 (Dense)             (None, 64)                3136      \n",
      "_________________________________________________________________\n",
      "dropout_16 (Dropout)         (None, 64)                0         \n",
      "_________________________________________________________________\n",
      "dense_23 (Dense)             (None, 64)                4160      \n",
      "_________________________________________________________________\n",
      "dropout_17 (Dropout)         (None, 64)                0         \n",
      "_________________________________________________________________\n",
      "dense_24 (Dense)             (None, 1)                 65        \n",
      "=================================================================\n",
      "Total params: 9,713\n",
      "Trainable params: 9,713\n",
      "Non-trainable params: 0\n",
      "_________________________________________________________________\n"
     ]
    }
   ],
   "source": [
    "model.summary()"
   ]
  },
  {
   "cell_type": "code",
   "execution_count": 55,
   "metadata": {},
   "outputs": [
    {
     "name": "stdout",
     "output_type": "stream",
     "text": [
      "Train on 1058 samples, validate on 118 samples\n",
      "Epoch 1/3\n",
      "1058/1058 [==============================] - 0s 441us/step - loss: 1.1002 - acc: 0.4036 - val_loss: 0.9312 - val_acc: 0.2373\n",
      "Epoch 2/3\n",
      "1058/1058 [==============================] - 0s 98us/step - loss: 1.0451 - acc: 0.4386 - val_loss: 0.8905 - val_acc: 0.3475\n",
      "Epoch 3/3\n",
      "1058/1058 [==============================] - 0s 96us/step - loss: 0.9611 - acc: 0.4849 - val_loss: 0.8592 - val_acc: 0.5593\n"
     ]
    }
   ],
   "source": [
    "history = model.fit(x_train, y_train, batch_size = 32, epochs = 3, validation_split = 0.1, verbose = 1)#, callbacks = [checkpoint, reduce_lr])"
   ]
  },
  {
   "cell_type": "code",
   "execution_count": 56,
   "metadata": {},
   "outputs": [
    {
     "name": "stdout",
     "output_type": "stream",
     "text": [
      "294/294 [==============================] - 0s 52us/step\n"
     ]
    },
    {
     "data": {
      "text/plain": [
       "[0.86293415633999571, 0.48979591857008381]"
      ]
     },
     "execution_count": 56,
     "metadata": {},
     "output_type": "execute_result"
    }
   ],
   "source": [
    "model.evaluate(x_test, y_test)"
   ]
  },
  {
   "cell_type": "code",
   "execution_count": null,
   "metadata": {
    "collapsed": true
   },
   "outputs": [],
   "source": [
    "evals = [1 if i > 0.1 else 0 for i in predicts]\n",
    "cf = confusion_matrix(y_test, evals)\n",
    "cf"
   ]
  },
  {
   "cell_type": "code",
   "execution_count": null,
   "metadata": {
    "collapsed": true
   },
   "outputs": [],
   "source": [
    "seed = 42\n",
    "np.random.seed(seed)\n",
    "num_classes = 1\n",
    "input_shape = dummy_scaled_df.shape[1]\n",
    "activations = 'tanh'\n",
    "X = np.array(all_scaled)\n",
    "y = np.array(labels)\n",
    "\n",
    "kfold = StratifiedKFold(n_splits=10, shuffle=True, random_state=seed)\n",
    "cvscores = []\n",
    "X = np.array(X)\n",
    "y = np.array(y)\n",
    "for train, test in kfold.split(X, y):\n",
    "    \n",
    "    model = Sequential()\n",
    "    model.add(Dense(input_shape, input_shape = (input_shape,), activation = activations,\n",
    "                kernel_regularizer = regularizers.l2(.001)))\n",
    "    model.add(Dropout(0.5))\n",
    "    model.add(Dense(64, activation = 'relu', kernel_regularizer = regularizers.l2(.001)))#1024\n",
    "    model.add(Dropout(0.5))\n",
    "    model.add(Dense(64, activation = 'relu', kernel_regularizer = regularizers.l2(.001)))#1024\n",
    "    model.add(Dropout(0.5))\n",
    "    model.add(Dense(num_classes, activation = 'sigmoid'))\n",
    "    \n",
    "    cv_checkpoint = ModelCheckpoint(filepath = 'cv_weights.hdf5', save_best_only = True, monitor='val_loss') \n",
    "    model.compile(loss = 'binary_crossentropy', optimizer = SGD(lr=0.0001, momentum = 0.9), metrics = ['accuracy'])\n",
    "    model.fit(X[train], y[train], epochs = 3000, batch_size = 32, verbose = 0,\n",
    "              callbacks = [cv_checkpoint], validation_split = 0.1)\n",
    "    \n",
    "    model.load_weights('cv_weights.hdf5')\n",
    "    scores = model.evaluate(X[test], y[test], verbose=0)\n",
    "    print(\"%s: %.2f%%\" % (model.metrics_names[1], scores[1]*100))\n",
    "    cvscores.append(scores[1] * 100)\n",
    "print(\"%.2f%% (+/- %.2f%%)\" % (np.mean(cvscores), np.std(cvscores)))"
   ]
  }
 ],
 "metadata": {
  "kernelspec": {
   "display_name": "Python 2",
   "language": "python",
   "name": "python2"
  },
  "language_info": {
   "codemirror_mode": {
    "name": "ipython",
    "version": 2
   },
   "file_extension": ".py",
   "mimetype": "text/x-python",
   "name": "python",
   "nbconvert_exporter": "python",
   "pygments_lexer": "ipython2",
   "version": "2.7.14"
  }
 },
 "nbformat": 4,
 "nbformat_minor": 2
}
