{
 "cells": [
  {
   "cell_type": "code",
   "execution_count": 1,
   "metadata": {},
   "outputs": [
    {
     "name": "stderr",
     "output_type": "stream",
     "text": [
      "Using TensorFlow backend.\n"
     ]
    }
   ],
   "source": [
    "import pandas as pd\n",
    "from keras.models import Sequential\n",
    "from keras.layers import Dense, Dropout, Activation\n",
    "from sklearn.preprocessing import MinMaxScaler, StandardScaler\n",
    "import numpy as np\n",
    "from keras.utils import to_categorical\n",
    "from keras.optimizers import SGD\n",
    "from sklearn.model_selection import StratifiedKFold, train_test_split\n",
    "from keras.layers.advanced_activations import LeakyReLU\n",
    "from keras.callbacks import ModelCheckpoint, ReduceLROnPlateau, EarlyStopping\n",
    "from sklearn.utils import shuffle\n",
    "import matplotlib.pyplot as plt\n",
    "from sklearn.metrics import confusion_matrix, roc_auc_score\n",
    "from keras import regularizers"
   ]
  },
  {
   "cell_type": "code",
   "execution_count": 2,
   "metadata": {
    "collapsed": true
   },
   "outputs": [],
   "source": [
    "labels = pd.read_csv('hr_test_labels.csv')\n",
    "features = pd.read_csv('hr_test_features.csv')"
   ]
  },
  {
   "cell_type": "code",
   "execution_count": 44,
   "metadata": {},
   "outputs": [
    {
     "data": {
      "text/plain": [
       "294"
      ]
     },
     "execution_count": 44,
     "metadata": {},
     "output_type": "execute_result"
    }
   ],
   "source": [
    "df = pd.read_csv('hr_attrition.csv')\n",
    "split_num = int(len(df)*.8)\n",
    "df = df[split_num:]\n",
    "len(df)"
   ]
  },
  {
   "cell_type": "code",
   "execution_count": 3,
   "metadata": {
    "collapsed": true
   },
   "outputs": [],
   "source": [
    "assert len(features) == len(labels)"
   ]
  },
  {
   "cell_type": "code",
   "execution_count": 4,
   "metadata": {},
   "outputs": [
    {
     "data": {
      "text/plain": [
       "294"
      ]
     },
     "execution_count": 4,
     "metadata": {},
     "output_type": "execute_result"
    }
   ],
   "source": [
    "len(features)"
   ]
  },
  {
   "cell_type": "code",
   "execution_count": 6,
   "metadata": {
    "collapsed": true
   },
   "outputs": [],
   "source": [
    "x_train, x_test, y_train, y_test = train_test_split(features, labels, test_size=0.2, random_state=42)\n",
    "#y_test = pd.DataFrame(y_train)"
   ]
  },
  {
   "cell_type": "code",
   "execution_count": 7,
   "metadata": {
    "collapsed": true
   },
   "outputs": [],
   "source": [
    "y_train = pd.DataFrame(y_train)"
   ]
  },
  {
   "cell_type": "code",
   "execution_count": 6,
   "metadata": {
    "collapsed": true
   },
   "outputs": [],
   "source": [
    "num_classes = 1\n",
    "input_shape = features.shape[1]\n",
    "\n",
    "model = Sequential()\n",
    "model.add(Dense(512, input_shape = (input_shape,), activation = 'tanh'))\n",
    "model.add(Dropout(0.4))\n",
    "model.add(Dense(1024, activation = 'tanh', kernel_initializer = 'truncated_normal',kernel_regularizer = regularizers.l2(.001)))#1024\n",
    "#model.add(Dropout(0.6))\n",
    "model.add(Dense(512, activation = 'relu', kernel_initializer = 'truncated_normal', kernel_regularizer = regularizers.l2(.001)))#1024\n",
    "model.add(Dropout(0.5))\n",
    "model.add(Dense(32, activation = 'relu', kernel_initializer = 'truncated_normal', kernel_regularizer = regularizers.l2(.001)))#1024\n",
    "model.add(Dropout(0.3))\n",
    "model.add(Dense(1, activation = 'sigmoid'))"
   ]
  },
  {
   "cell_type": "code",
   "execution_count": 7,
   "metadata": {
    "collapsed": true
   },
   "outputs": [],
   "source": [
    "checkpoint = ModelCheckpoint(filepath = 'hr_weights.hdf5', monitor = 'val_loss', save_best_only = True, verbose = False)\n",
    "reduce_lr = ReduceLROnPlateau(monitor='val_loss', factor=0.5, patience=20, min_lr=0.00001, verbose = 0)\n",
    "early_stop = EarlyStopping(monitor='val_loss', min_delta=0, patience=60)"
   ]
  },
  {
   "cell_type": "code",
   "execution_count": 8,
   "metadata": {
    "collapsed": true
   },
   "outputs": [],
   "source": [
    "model.compile(loss = 'binary_crossentropy', optimizer = 'adam', metrics = ['accuracy'])"
   ]
  },
  {
   "cell_type": "code",
   "execution_count": 9,
   "metadata": {},
   "outputs": [
    {
     "name": "stdout",
     "output_type": "stream",
     "text": [
      "_________________________________________________________________\n",
      "Layer (type)                 Output Shape              Param #   \n",
      "=================================================================\n",
      "dense_1 (Dense)              (None, 512)               25088     \n",
      "_________________________________________________________________\n",
      "dropout_1 (Dropout)          (None, 512)               0         \n",
      "_________________________________________________________________\n",
      "dense_2 (Dense)              (None, 1024)              525312    \n",
      "_________________________________________________________________\n",
      "dense_3 (Dense)              (None, 512)               524800    \n",
      "_________________________________________________________________\n",
      "dropout_2 (Dropout)          (None, 512)               0         \n",
      "_________________________________________________________________\n",
      "dense_4 (Dense)              (None, 32)                16416     \n",
      "_________________________________________________________________\n",
      "dropout_3 (Dropout)          (None, 32)                0         \n",
      "_________________________________________________________________\n",
      "dense_5 (Dense)              (None, 1)                 33        \n",
      "=================================================================\n",
      "Total params: 1,091,649\n",
      "Trainable params: 1,091,649\n",
      "Non-trainable params: 0\n",
      "_________________________________________________________________\n"
     ]
    }
   ],
   "source": [
    "model.summary()"
   ]
  },
  {
   "cell_type": "code",
   "execution_count": 84,
   "metadata": {},
   "outputs": [
    {
     "name": "stdout",
     "output_type": "stream",
     "text": [
      "Train on 882 samples, validate on 294 samples\n",
      "Epoch 1/75\n",
      "882/882 [==============================] - 2s 2ms/step - loss: 2.1929 - acc: 0.8413 - val_loss: 1.9203 - val_acc: 0.8367\n",
      "Epoch 2/75\n",
      "882/882 [==============================] - 1s 1ms/step - loss: 1.6527 - acc: 0.8560 - val_loss: 1.7407 - val_acc: 0.8061\n",
      "Epoch 3/75\n",
      "882/882 [==============================] - 1s 1ms/step - loss: 1.2770 - acc: 0.8639 - val_loss: 1.1946 - val_acc: 0.8469\n",
      "Epoch 4/75\n",
      "882/882 [==============================] - 1s 1ms/step - loss: 1.0275 - acc: 0.8628 - val_loss: 1.0104 - val_acc: 0.8503\n",
      "Epoch 5/75\n",
      "882/882 [==============================] - 1s 1ms/step - loss: 0.8288 - acc: 0.8730 - val_loss: 0.8677 - val_acc: 0.8265\n",
      "Epoch 6/75\n",
      "882/882 [==============================] - 1s 1ms/step - loss: 0.6903 - acc: 0.8719 - val_loss: 0.7286 - val_acc: 0.8571\n",
      "Epoch 7/75\n",
      "882/882 [==============================] - 1s 1ms/step - loss: 0.5883 - acc: 0.8855 - val_loss: 0.7017 - val_acc: 0.8231\n",
      "Epoch 8/75\n",
      "882/882 [==============================] - 1s 1ms/step - loss: 0.5243 - acc: 0.8844 - val_loss: 0.5649 - val_acc: 0.8571\n",
      "Epoch 9/75\n",
      "882/882 [==============================] - 1s 1ms/step - loss: 0.4671 - acc: 0.8810 - val_loss: 0.5328 - val_acc: 0.8503\n",
      "Epoch 10/75\n",
      "882/882 [==============================] - 1s 1ms/step - loss: 0.4305 - acc: 0.8798 - val_loss: 0.5320 - val_acc: 0.8333\n",
      "Epoch 11/75\n",
      "882/882 [==============================] - 1s 1ms/step - loss: 0.4311 - acc: 0.8866 - val_loss: 0.5001 - val_acc: 0.8401\n",
      "Epoch 12/75\n",
      "882/882 [==============================] - 1s 1ms/step - loss: 0.4105 - acc: 0.8798 - val_loss: 0.4849 - val_acc: 0.8605\n",
      "Epoch 13/75\n",
      "882/882 [==============================] - 1s 1ms/step - loss: 0.4092 - acc: 0.8810 - val_loss: 0.4917 - val_acc: 0.8299\n",
      "Epoch 14/75\n",
      "882/882 [==============================] - 1s 1ms/step - loss: 0.3914 - acc: 0.8753 - val_loss: 0.4446 - val_acc: 0.8401\n",
      "Epoch 15/75\n",
      "882/882 [==============================] - 1s 1ms/step - loss: 0.3781 - acc: 0.8798 - val_loss: 0.4935 - val_acc: 0.8503\n",
      "Epoch 16/75\n",
      "882/882 [==============================] - 1s 1ms/step - loss: 0.3630 - acc: 0.8776 - val_loss: 0.4613 - val_acc: 0.8503\n",
      "Epoch 17/75\n",
      "882/882 [==============================] - 1s 1ms/step - loss: 0.3529 - acc: 0.8821 - val_loss: 0.4421 - val_acc: 0.8435\n",
      "Epoch 18/75\n",
      "882/882 [==============================] - 1s 1ms/step - loss: 0.3396 - acc: 0.8798 - val_loss: 0.4608 - val_acc: 0.8503\n",
      "Epoch 19/75\n",
      "882/882 [==============================] - 1s 1ms/step - loss: 0.3376 - acc: 0.8810 - val_loss: 0.4280 - val_acc: 0.8537\n",
      "Epoch 20/75\n",
      "882/882 [==============================] - 1s 1ms/step - loss: 0.3505 - acc: 0.8878 - val_loss: 0.3974 - val_acc: 0.8605\n",
      "Epoch 21/75\n",
      "882/882 [==============================] - 1s 1ms/step - loss: 0.3365 - acc: 0.8866 - val_loss: 0.4171 - val_acc: 0.8537\n",
      "Epoch 22/75\n",
      "882/882 [==============================] - 1s 1ms/step - loss: 0.3069 - acc: 0.9014 - val_loss: 0.4539 - val_acc: 0.8469\n",
      "Epoch 23/75\n",
      "882/882 [==============================] - 1s 1ms/step - loss: 0.3248 - acc: 0.8889 - val_loss: 0.4773 - val_acc: 0.8605\n",
      "Epoch 24/75\n",
      "882/882 [==============================] - 1s 1ms/step - loss: 0.3267 - acc: 0.8753 - val_loss: 0.4397 - val_acc: 0.8367\n",
      "Epoch 25/75\n",
      "882/882 [==============================] - 1s 1ms/step - loss: 0.3151 - acc: 0.8912 - val_loss: 0.4225 - val_acc: 0.8537\n",
      "Epoch 26/75\n",
      "882/882 [==============================] - 1s 1ms/step - loss: 0.3142 - acc: 0.8798 - val_loss: 0.4557 - val_acc: 0.8299\n",
      "Epoch 27/75\n",
      "882/882 [==============================] - 1s 1ms/step - loss: 0.3166 - acc: 0.8866 - val_loss: 0.4953 - val_acc: 0.8571\n",
      "Epoch 28/75\n",
      "882/882 [==============================] - 1s 1ms/step - loss: 0.3118 - acc: 0.8900 - val_loss: 0.4591 - val_acc: 0.8571\n",
      "Epoch 29/75\n",
      "882/882 [==============================] - 1s 1ms/step - loss: 0.3275 - acc: 0.8844 - val_loss: 0.4092 - val_acc: 0.8571\n",
      "Epoch 30/75\n",
      "882/882 [==============================] - 1s 1ms/step - loss: 0.2942 - acc: 0.8968 - val_loss: 0.4150 - val_acc: 0.8469\n",
      "Epoch 31/75\n",
      "882/882 [==============================] - 1s 1ms/step - loss: 0.3021 - acc: 0.8923 - val_loss: 0.4158 - val_acc: 0.8673\n",
      "Epoch 32/75\n",
      "882/882 [==============================] - 1s 1ms/step - loss: 0.3103 - acc: 0.8912 - val_loss: 0.4304 - val_acc: 0.8469\n",
      "Epoch 33/75\n",
      "882/882 [==============================] - 1s 1ms/step - loss: 0.3118 - acc: 0.8912 - val_loss: 0.4207 - val_acc: 0.8503\n",
      "Epoch 34/75\n",
      "882/882 [==============================] - 1s 1ms/step - loss: 0.3227 - acc: 0.8912 - val_loss: 0.4224 - val_acc: 0.8605\n",
      "Epoch 35/75\n",
      "882/882 [==============================] - 1s 1ms/step - loss: 0.3288 - acc: 0.8923 - val_loss: 0.4431 - val_acc: 0.8639\n",
      "Epoch 36/75\n",
      "882/882 [==============================] - 1s 1ms/step - loss: 0.3387 - acc: 0.8980 - val_loss: 0.4738 - val_acc: 0.8673\n",
      "Epoch 37/75\n",
      "882/882 [==============================] - 1s 1ms/step - loss: 0.3337 - acc: 0.8821 - val_loss: 0.4312 - val_acc: 0.8639\n",
      "Epoch 38/75\n",
      "882/882 [==============================] - 1s 1ms/step - loss: 0.3092 - acc: 0.9014 - val_loss: 0.4651 - val_acc: 0.8503\n",
      "Epoch 39/75\n",
      "882/882 [==============================] - 1s 1ms/step - loss: 0.3146 - acc: 0.8946 - val_loss: 0.4327 - val_acc: 0.8435\n",
      "Epoch 40/75\n",
      "882/882 [==============================] - 1s 1ms/step - loss: 0.3005 - acc: 0.9002 - val_loss: 0.4493 - val_acc: 0.8673\n",
      "Epoch 41/75\n",
      "882/882 [==============================] - 1s 1ms/step - loss: 0.3139 - acc: 0.8957 - val_loss: 0.4971 - val_acc: 0.8537\n",
      "Epoch 42/75\n",
      "882/882 [==============================] - 1s 1ms/step - loss: 0.2938 - acc: 0.9014 - val_loss: 0.4457 - val_acc: 0.8605\n",
      "Epoch 43/75\n",
      "882/882 [==============================] - 1s 1ms/step - loss: 0.2880 - acc: 0.9070 - val_loss: 0.4360 - val_acc: 0.8503\n",
      "Epoch 44/75\n",
      "882/882 [==============================] - 1s 1ms/step - loss: 0.2800 - acc: 0.9059 - val_loss: 0.4400 - val_acc: 0.8503\n",
      "Epoch 45/75\n",
      "882/882 [==============================] - 1s 1ms/step - loss: 0.2710 - acc: 0.9104 - val_loss: 0.4820 - val_acc: 0.8503\n",
      "Epoch 46/75\n",
      "882/882 [==============================] - 1s 1ms/step - loss: 0.2779 - acc: 0.9059 - val_loss: 0.4552 - val_acc: 0.8503\n",
      "Epoch 47/75\n",
      "882/882 [==============================] - 1s 1ms/step - loss: 0.2666 - acc: 0.9082 - val_loss: 0.4528 - val_acc: 0.8469\n",
      "Epoch 48/75\n",
      "882/882 [==============================] - 1s 1ms/step - loss: 0.2696 - acc: 0.9104 - val_loss: 0.4234 - val_acc: 0.8469\n",
      "Epoch 49/75\n",
      "882/882 [==============================] - 1s 1ms/step - loss: 0.2638 - acc: 0.9014 - val_loss: 0.4543 - val_acc: 0.8605\n",
      "Epoch 50/75\n",
      "882/882 [==============================] - 1s 1ms/step - loss: 0.2603 - acc: 0.9138 - val_loss: 0.4334 - val_acc: 0.8571\n",
      "Epoch 51/75\n",
      "882/882 [==============================] - 1s 1ms/step - loss: 0.2724 - acc: 0.9014 - val_loss: 0.4206 - val_acc: 0.8571\n",
      "Epoch 52/75\n",
      "882/882 [==============================] - 1s 1ms/step - loss: 0.2549 - acc: 0.9116 - val_loss: 0.4464 - val_acc: 0.8401\n",
      "Epoch 53/75\n",
      "882/882 [==============================] - 1s 1ms/step - loss: 0.2653 - acc: 0.9161 - val_loss: 0.4654 - val_acc: 0.8537\n",
      "Epoch 54/75\n",
      "882/882 [==============================] - 1s 1ms/step - loss: 0.2567 - acc: 0.9138 - val_loss: 0.4537 - val_acc: 0.8537\n",
      "Epoch 55/75\n",
      "882/882 [==============================] - 1s 1ms/step - loss: 0.2452 - acc: 0.9195 - val_loss: 0.4630 - val_acc: 0.8605\n",
      "Epoch 56/75\n",
      "882/882 [==============================] - 1s 1ms/step - loss: 0.2749 - acc: 0.9036 - val_loss: 0.4462 - val_acc: 0.8673\n",
      "Epoch 57/75\n",
      "882/882 [==============================] - 1s 1ms/step - loss: 0.2476 - acc: 0.9206 - val_loss: 0.4564 - val_acc: 0.8673\n",
      "Epoch 58/75\n",
      "882/882 [==============================] - 1s 1ms/step - loss: 0.2552 - acc: 0.9184 - val_loss: 0.4595 - val_acc: 0.8605\n",
      "Epoch 59/75\n",
      "882/882 [==============================] - 1s 1ms/step - loss: 0.2657 - acc: 0.9093 - val_loss: 0.4848 - val_acc: 0.8707\n",
      "Epoch 60/75\n",
      "882/882 [==============================] - 1s 1ms/step - loss: 0.2596 - acc: 0.9172 - val_loss: 0.4770 - val_acc: 0.8469\n",
      "Epoch 61/75\n",
      "882/882 [==============================] - 1s 1ms/step - loss: 0.2533 - acc: 0.9150 - val_loss: 0.5136 - val_acc: 0.8265\n",
      "Epoch 62/75\n",
      "882/882 [==============================] - 1s 1ms/step - loss: 0.2542 - acc: 0.9104 - val_loss: 0.4702 - val_acc: 0.8367\n",
      "Epoch 63/75\n",
      "882/882 [==============================] - 1s 1ms/step - loss: 0.2362 - acc: 0.9150 - val_loss: 0.4486 - val_acc: 0.8571\n",
      "Epoch 64/75\n",
      "882/882 [==============================] - 1s 1ms/step - loss: 0.2392 - acc: 0.9184 - val_loss: 0.4903 - val_acc: 0.8503\n",
      "Epoch 65/75\n",
      "882/882 [==============================] - 1s 1ms/step - loss: 0.2325 - acc: 0.9252 - val_loss: 0.4539 - val_acc: 0.8605\n",
      "Epoch 66/75\n",
      "882/882 [==============================] - 1s 1ms/step - loss: 0.2306 - acc: 0.9184 - val_loss: 0.4711 - val_acc: 0.8537\n",
      "Epoch 67/75\n",
      "882/882 [==============================] - 1s 1ms/step - loss: 0.2303 - acc: 0.9218 - val_loss: 0.4686 - val_acc: 0.8571\n",
      "Epoch 68/75\n",
      "882/882 [==============================] - 1s 1ms/step - loss: 0.2290 - acc: 0.9286 - val_loss: 0.4746 - val_acc: 0.8469\n",
      "Epoch 69/75\n",
      "882/882 [==============================] - 1s 1ms/step - loss: 0.2426 - acc: 0.9172 - val_loss: 0.4756 - val_acc: 0.8469\n",
      "Epoch 70/75\n",
      "882/882 [==============================] - 1s 1ms/step - loss: 0.2209 - acc: 0.9263 - val_loss: 0.4818 - val_acc: 0.8401\n",
      "Epoch 71/75\n",
      "882/882 [==============================] - 1s 1ms/step - loss: 0.2318 - acc: 0.9240 - val_loss: 0.4729 - val_acc: 0.8435\n",
      "Epoch 72/75\n",
      "882/882 [==============================] - 1s 1ms/step - loss: 0.2168 - acc: 0.9308 - val_loss: 0.4511 - val_acc: 0.8605\n",
      "Epoch 73/75\n",
      "882/882 [==============================] - 1s 1ms/step - loss: 0.2349 - acc: 0.9286 - val_loss: 0.4686 - val_acc: 0.8435\n",
      "Epoch 74/75\n",
      "882/882 [==============================] - 1s 1ms/step - loss: 0.2226 - acc: 0.9274 - val_loss: 0.4653 - val_acc: 0.8707\n",
      "Epoch 75/75\n",
      "882/882 [==============================] - 1s 1ms/step - loss: 0.2281 - acc: 0.9286 - val_loss: 0.4745 - val_acc: 0.8571\n"
     ]
    }
   ],
   "source": [
    "history = model.fit(x_train, y_train, batch_size = 16, epochs = 75, validation_split = 0.25,\n",
    "                    verbose = 1, callbacks = [checkpoint, reduce_lr, early_stop])"
   ]
  },
  {
   "cell_type": "code",
   "execution_count": 15,
   "metadata": {},
   "outputs": [],
   "source": [
    "preds = model.predict(features)"
   ]
  },
  {
   "cell_type": "code",
   "execution_count": 10,
   "metadata": {
    "collapsed": true
   },
   "outputs": [],
   "source": [
    "model.load_weights('hr_weights.hdf5')"
   ]
  },
  {
   "cell_type": "code",
   "execution_count": 16,
   "metadata": {},
   "outputs": [
    {
     "name": "stdout",
     "output_type": "stream",
     "text": [
      "294/294 [==============================] - 0s 131us/step\n"
     ]
    },
    {
     "data": {
      "text/plain": [
       "[0.31770410038986985, 0.891156462585034]"
      ]
     },
     "execution_count": 16,
     "metadata": {},
     "output_type": "execute_result"
    }
   ],
   "source": [
    "model.evaluate(features, labels)"
   ]
  },
  {
   "cell_type": "code",
   "execution_count": 17,
   "metadata": {},
   "outputs": [
    {
     "data": {
      "text/plain": [
       "0.88474010933012137"
      ]
     },
     "execution_count": 17,
     "metadata": {},
     "output_type": "execute_result"
    }
   ],
   "source": [
    "roc = roc_auc_score(labels, preds)\n",
    "roc"
   ]
  },
  {
   "cell_type": "code",
   "execution_count": 52,
   "metadata": {},
   "outputs": [
    {
     "data": {
      "text/plain": [
       "array([[226,  25],\n",
       "       [ 14,  29]])"
      ]
     },
     "execution_count": 52,
     "metadata": {},
     "output_type": "execute_result"
    }
   ],
   "source": [
    "evals = [1 if i > .25 else 0 for i in preds]\n",
    "cf = confusion_matrix(labels, evals)\n",
    "cf"
   ]
  },
  {
   "cell_type": "code",
   "execution_count": 53,
   "metadata": {},
   "outputs": [
    {
     "data": {
      "text/plain": [
       "294"
      ]
     },
     "execution_count": 53,
     "metadata": {},
     "output_type": "execute_result"
    }
   ],
   "source": [
    "len(labels)"
   ]
  },
  {
   "cell_type": "code",
   "execution_count": 54,
   "metadata": {},
   "outputs": [
    {
     "data": {
      "text/html": [
       "<div>\n",
       "<style>\n",
       "    .dataframe thead tr:only-child th {\n",
       "        text-align: right;\n",
       "    }\n",
       "\n",
       "    .dataframe thead th {\n",
       "        text-align: left;\n",
       "    }\n",
       "\n",
       "    .dataframe tbody tr th {\n",
       "        vertical-align: top;\n",
       "    }\n",
       "</style>\n",
       "<table border=\"1\" class=\"dataframe\">\n",
       "  <thead>\n",
       "    <tr style=\"text-align: right;\">\n",
       "      <th></th>\n",
       "      <th>Age</th>\n",
       "      <th>Attrition</th>\n",
       "      <th>BusinessTravel</th>\n",
       "      <th>DailyRate</th>\n",
       "      <th>Department</th>\n",
       "      <th>DistanceFromHome</th>\n",
       "      <th>Education</th>\n",
       "      <th>EducationField</th>\n",
       "      <th>EmployeeCount</th>\n",
       "      <th>EmployeeNumber</th>\n",
       "      <th>...</th>\n",
       "      <th>StandardHours</th>\n",
       "      <th>StockOptionLevel</th>\n",
       "      <th>TotalWorkingYears</th>\n",
       "      <th>TrainingTimesLastYear</th>\n",
       "      <th>WorkLifeBalance</th>\n",
       "      <th>YearsAtCompany</th>\n",
       "      <th>YearsInCurrentRole</th>\n",
       "      <th>YearsSinceLastPromotion</th>\n",
       "      <th>YearsWithCurrManager</th>\n",
       "      <th>predictions</th>\n",
       "    </tr>\n",
       "  </thead>\n",
       "  <tbody>\n",
       "    <tr>\n",
       "      <th>1176</th>\n",
       "      <td>49</td>\n",
       "      <td>No</td>\n",
       "      <td>Travel_Rarely</td>\n",
       "      <td>301</td>\n",
       "      <td>Research &amp; Development</td>\n",
       "      <td>22</td>\n",
       "      <td>4</td>\n",
       "      <td>Other</td>\n",
       "      <td>1</td>\n",
       "      <td>1655</td>\n",
       "      <td>...</td>\n",
       "      <td>80</td>\n",
       "      <td>2</td>\n",
       "      <td>27</td>\n",
       "      <td>2</td>\n",
       "      <td>3</td>\n",
       "      <td>4</td>\n",
       "      <td>2</td>\n",
       "      <td>1</td>\n",
       "      <td>2</td>\n",
       "      <td>0</td>\n",
       "    </tr>\n",
       "    <tr>\n",
       "      <th>1177</th>\n",
       "      <td>50</td>\n",
       "      <td>No</td>\n",
       "      <td>Travel_Rarely</td>\n",
       "      <td>813</td>\n",
       "      <td>Research &amp; Development</td>\n",
       "      <td>17</td>\n",
       "      <td>5</td>\n",
       "      <td>Life Sciences</td>\n",
       "      <td>1</td>\n",
       "      <td>1656</td>\n",
       "      <td>...</td>\n",
       "      <td>80</td>\n",
       "      <td>3</td>\n",
       "      <td>19</td>\n",
       "      <td>3</td>\n",
       "      <td>3</td>\n",
       "      <td>14</td>\n",
       "      <td>11</td>\n",
       "      <td>1</td>\n",
       "      <td>11</td>\n",
       "      <td>0</td>\n",
       "    </tr>\n",
       "    <tr>\n",
       "      <th>1178</th>\n",
       "      <td>20</td>\n",
       "      <td>No</td>\n",
       "      <td>Travel_Rarely</td>\n",
       "      <td>1141</td>\n",
       "      <td>Sales</td>\n",
       "      <td>2</td>\n",
       "      <td>3</td>\n",
       "      <td>Medical</td>\n",
       "      <td>1</td>\n",
       "      <td>1657</td>\n",
       "      <td>...</td>\n",
       "      <td>80</td>\n",
       "      <td>0</td>\n",
       "      <td>2</td>\n",
       "      <td>3</td>\n",
       "      <td>3</td>\n",
       "      <td>2</td>\n",
       "      <td>2</td>\n",
       "      <td>2</td>\n",
       "      <td>2</td>\n",
       "      <td>0</td>\n",
       "    </tr>\n",
       "    <tr>\n",
       "      <th>1179</th>\n",
       "      <td>34</td>\n",
       "      <td>No</td>\n",
       "      <td>Travel_Rarely</td>\n",
       "      <td>1130</td>\n",
       "      <td>Research &amp; Development</td>\n",
       "      <td>3</td>\n",
       "      <td>3</td>\n",
       "      <td>Life Sciences</td>\n",
       "      <td>1</td>\n",
       "      <td>1658</td>\n",
       "      <td>...</td>\n",
       "      <td>80</td>\n",
       "      <td>1</td>\n",
       "      <td>11</td>\n",
       "      <td>2</td>\n",
       "      <td>3</td>\n",
       "      <td>11</td>\n",
       "      <td>8</td>\n",
       "      <td>7</td>\n",
       "      <td>9</td>\n",
       "      <td>0</td>\n",
       "    </tr>\n",
       "    <tr>\n",
       "      <th>1180</th>\n",
       "      <td>36</td>\n",
       "      <td>No</td>\n",
       "      <td>Travel_Rarely</td>\n",
       "      <td>311</td>\n",
       "      <td>Research &amp; Development</td>\n",
       "      <td>7</td>\n",
       "      <td>3</td>\n",
       "      <td>Life Sciences</td>\n",
       "      <td>1</td>\n",
       "      <td>1659</td>\n",
       "      <td>...</td>\n",
       "      <td>80</td>\n",
       "      <td>0</td>\n",
       "      <td>15</td>\n",
       "      <td>4</td>\n",
       "      <td>3</td>\n",
       "      <td>4</td>\n",
       "      <td>3</td>\n",
       "      <td>1</td>\n",
       "      <td>3</td>\n",
       "      <td>1</td>\n",
       "    </tr>\n",
       "  </tbody>\n",
       "</table>\n",
       "<p>5 rows × 36 columns</p>\n",
       "</div>"
      ],
      "text/plain": [
       "      Age Attrition BusinessTravel  DailyRate              Department  \\\n",
       "1176   49        No  Travel_Rarely        301  Research & Development   \n",
       "1177   50        No  Travel_Rarely        813  Research & Development   \n",
       "1178   20        No  Travel_Rarely       1141                   Sales   \n",
       "1179   34        No  Travel_Rarely       1130  Research & Development   \n",
       "1180   36        No  Travel_Rarely        311  Research & Development   \n",
       "\n",
       "      DistanceFromHome  Education EducationField  EmployeeCount  \\\n",
       "1176                22          4          Other              1   \n",
       "1177                17          5  Life Sciences              1   \n",
       "1178                 2          3        Medical              1   \n",
       "1179                 3          3  Life Sciences              1   \n",
       "1180                 7          3  Life Sciences              1   \n",
       "\n",
       "      EmployeeNumber     ...       StandardHours StockOptionLevel  \\\n",
       "1176            1655     ...                  80                2   \n",
       "1177            1656     ...                  80                3   \n",
       "1178            1657     ...                  80                0   \n",
       "1179            1658     ...                  80                1   \n",
       "1180            1659     ...                  80                0   \n",
       "\n",
       "      TotalWorkingYears  TrainingTimesLastYear  WorkLifeBalance  \\\n",
       "1176                 27                      2                3   \n",
       "1177                 19                      3                3   \n",
       "1178                  2                      3                3   \n",
       "1179                 11                      2                3   \n",
       "1180                 15                      4                3   \n",
       "\n",
       "     YearsAtCompany  YearsInCurrentRole YearsSinceLastPromotion  \\\n",
       "1176              4                   2                       1   \n",
       "1177             14                  11                       1   \n",
       "1178              2                   2                       2   \n",
       "1179             11                   8                       7   \n",
       "1180              4                   3                       1   \n",
       "\n",
       "      YearsWithCurrManager  predictions  \n",
       "1176                     2            0  \n",
       "1177                    11            0  \n",
       "1178                     2            0  \n",
       "1179                     9            0  \n",
       "1180                     3            1  \n",
       "\n",
       "[5 rows x 36 columns]"
      ]
     },
     "execution_count": 54,
     "metadata": {},
     "output_type": "execute_result"
    }
   ],
   "source": [
    "df['predictions'] = evals\n",
    "df.head()"
   ]
  },
  {
   "cell_type": "code",
   "execution_count": 55,
   "metadata": {
    "collapsed": true
   },
   "outputs": [],
   "source": [
    "df.to_csv('hr_with_preds.csv', index = False)"
   ]
  },
  {
   "cell_type": "code",
   "execution_count": 57,
   "metadata": {},
   "outputs": [
    {
     "data": {
      "text/plain": [
       "54"
      ]
     },
     "execution_count": 57,
     "metadata": {},
     "output_type": "execute_result"
    }
   ],
   "source": [
    "len(df.query('predictions == 1'))"
   ]
  },
  {
   "cell_type": "code",
   "execution_count": null,
   "metadata": {
    "collapsed": true
   },
   "outputs": [],
   "source": []
  }
 ],
 "metadata": {
  "kernelspec": {
   "display_name": "Python 2",
   "language": "python",
   "name": "python2"
  },
  "language_info": {
   "codemirror_mode": {
    "name": "ipython",
    "version": 2
   },
   "file_extension": ".py",
   "mimetype": "text/x-python",
   "name": "python",
   "nbconvert_exporter": "python",
   "pygments_lexer": "ipython2",
   "version": "2.7.14"
  }
 },
 "nbformat": 4,
 "nbformat_minor": 2
}
