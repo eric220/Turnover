{
 "cells": [
  {
   "cell_type": "markdown",
   "metadata": {},
   "source": [
    "<h2 style='text-align:center;'>Retention Model Predictor</h2>\n",
    "<br>"
   ]
  },
  {
   "cell_type": "markdown",
   "metadata": {},
   "source": [
    "<H4 style = 'border-bottom: 1px, solid, black'>Objective:</h4>\n",
    "<pre>Create an application based on a quality Machine Learning Algorithm that allows retention exploration</pre>"
   ]
  },
  {
   "cell_type": "markdown",
   "metadata": {},
   "source": [
    "<h4 style = 'border-bottom: 1px, solid, black'>Data:</h4>\n",
    "<pre>Ficticious data downloaded from kaggle</pre>"
   ]
  },
  {
   "cell_type": "markdown",
   "metadata": {},
   "source": [
    "<h4 style = 'border-bottom: 1px, solid, black'>Current Status:</h4>\n",
    "    <pre>Built baseline NN model with 87.55% (+/- 1.41%) acc. using Stratified Kfold 10 split. Add additional metrics ie F1 score, ROC/AUC etc.</pre>"
   ]
  },
  {
   "cell_type": "markdown",
   "metadata": {},
   "source": [
    "<h4 style = 'border-bottom: 1px, solid, black'>Skills demonstrated:</h4>\n",
    "<ul>\n",
    "    <li>Python</li>\n",
    "    <li>Pandas</li>\n",
    "    <li>Numpy</li>\n",
    "    <li>Jupyter</li>\n",
    "    <li>Keras</li>\n",
    "    <li>Github</li>\n",
    "    <li>HTML/CSS</li>\n",
    "    <li>Dash</li>\n",
    "</ul>"
   ]
  },
  {
   "cell_type": "markdown",
   "metadata": {},
   "source": [
    "<h4 style = 'border-bottom: 1px, solid, black'>Things to learn:</h4>\n",
    "<ol>\n",
    "    <li>Bayesian Parameter Optimization</li>\n",
    "    <li>AWS for model training and optimization</li>\n",
    "<ol>"
   ]
  }
 ],
 "metadata": {
  "kernelspec": {
   "display_name": "Python 2",
   "language": "python",
   "name": "python2"
  },
  "language_info": {
   "codemirror_mode": {
    "name": "ipython",
    "version": 2
   },
   "file_extension": ".py",
   "mimetype": "text/x-python",
   "name": "python",
   "nbconvert_exporter": "python",
   "pygments_lexer": "ipython2",
   "version": "2.7.14"
  }
 },
 "nbformat": 4,
 "nbformat_minor": 2
}
