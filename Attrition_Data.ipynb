{
 "cells": [
  {
   "cell_type": "code",
   "execution_count": 1,
   "metadata": {
    "collapsed": true
   },
   "outputs": [],
   "source": [
    "import pandas as pd\n",
    "from sklearn.preprocessing import MinMaxScaler, StandardScaler\n",
    "import numpy as np\n",
    "from sklearn.utils import resample\n",
    "#from sklearn.model_selection import test_train_split"
   ]
  },
  {
   "cell_type": "code",
   "execution_count": 2,
   "metadata": {
    "collapsed": true
   },
   "outputs": [],
   "source": [
    "df = pd.read_csv('hr_attrition.csv')"
   ]
  },
  {
   "cell_type": "code",
   "execution_count": 3,
   "metadata": {
    "collapsed": true
   },
   "outputs": [],
   "source": [
    "wages = ['DailyRate', 'HourlyRate', 'MonthlyIncome', 'MonthlyRate']\n",
    "\n",
    "to_dummy = ['BusinessTravel', 'Department', 'EducationField', 'Gender', 'JobRole', 'MaritalStatus', 'OverTime']##7\n",
    "\n",
    "categorical = ['Education', 'EnvironmentSatisfaction', 'JobInvolvement', 'JobLevel', 'JobSatisfaction', \n",
    "               'PerformanceRating', 'RelationshipSatisfaction', 'StockOptionLevel', 'WorkLifeBalance'] ##9\n",
    "\n",
    "to_continous = ['Age', 'DistanceFromHome', 'HourlyRate', 'NumCompaniesWorked', 'PercentSalaryHike',\n",
    "             'TotalWorkingYears', 'TrainingTimesLastYear', 'YearsAtCompany', 'YearsInCurrentRole', \n",
    "             'YearsSinceLastPromotion', 'YearsWithCurrManager', 'Education', 'EnvironmentSatisfaction',\n",
    "                'JobInvolvement', 'JobLevel', 'JobSatisfaction', \n",
    "               'PerformanceRating', 'RelationshipSatisfaction', 'StockOptionLevel', 'WorkLifeBalance'] ##11\n",
    "\n",
    "to_drop = ['DailyRate', 'MonthlyIncome', 'MonthlyRate', 'Attrition',\n",
    "           'EmployeeCount','Over18', 'StandardHours', 'EmployeeNumber']"
   ]
  },
  {
   "cell_type": "code",
   "execution_count": 4,
   "metadata": {
    "collapsed": true
   },
   "outputs": [],
   "source": [
    "###Get labels\n",
    "def get_labels(df):\n",
    "    labels = df['Attrition']\n",
    "    labels = [1 if i == 'Yes' else 0 for i in labels]\n",
    "    \n",
    "    return labels\n",
    "#labels = get_labels(df)"
   ]
  },
  {
   "cell_type": "code",
   "execution_count": 5,
   "metadata": {
    "collapsed": true
   },
   "outputs": [],
   "source": [
    "###Drop labels and others\n",
    "def drop_from_df(df, to_drop):\n",
    "    df = df.drop(to_drop, axis = 1)\n",
    "    \n",
    "    return df\n",
    "#df = drop_from_df(df, to_drop)"
   ]
  },
  {
   "cell_type": "code",
   "execution_count": 6,
   "metadata": {
    "collapsed": true
   },
   "outputs": [],
   "source": [
    "###Get Dummies and drop dummy features\n",
    "def get_dummies(df):\n",
    "    dummies = pd.get_dummies(df[to_dummy])\n",
    "    \n",
    "    #print(dummies)\n",
    "    df = df.drop(to_dummy, axis = 1)\n",
    "    \n",
    "    frames = [df, dummies]\n",
    "    df = pd.concat(frames, axis = 1)\n",
    "    \n",
    "    return df\n",
    "\n",
    "df_with_dummies = get_dummies(df)"
   ]
  },
  {
   "cell_type": "code",
   "execution_count": 7,
   "metadata": {},
   "outputs": [
    {
     "data": {
      "text/plain": [
       "1470"
      ]
     },
     "execution_count": 7,
     "metadata": {},
     "output_type": "execute_result"
    }
   ],
   "source": [
    "len(df_with_dummies)"
   ]
  },
  {
   "cell_type": "code",
   "execution_count": 8,
   "metadata": {
    "collapsed": true
   },
   "outputs": [],
   "source": [
    "###Scale continous variables\n",
    "def get_scaled(df, continous):\n",
    "    scaler = MinMaxScaler((0.05, 0.95))\n",
    "    df[continous] = scaler.fit_transform(df[continous])\n",
    "    \n",
    "    return df\n",
    "\n",
    "all_columns = df_with_dummies.columns.values\n",
    "dummy_scaled_df = get_scaled(df_with_dummies, to_continous)"
   ]
  },
  {
   "cell_type": "code",
   "execution_count": 10,
   "metadata": {
    "collapsed": true
   },
   "outputs": [],
   "source": [
    "###Drop labels and others\n",
    "labels = get_labels(df)\n",
    "df = drop_from_df(dummy_scaled_df, to_drop)"
   ]
  },
  {
   "cell_type": "code",
   "execution_count": 11,
   "metadata": {
    "collapsed": true
   },
   "outputs": [],
   "source": [
    "split_num = int(len(labels)*.8)\n",
    "labels,  test_labels = labels[:split_num],labels[split_num:]\n",
    "features, test_features = df[:split_num], df[split_num:]"
   ]
  },
  {
   "cell_type": "code",
   "execution_count": 12,
   "metadata": {},
   "outputs": [
    {
     "data": {
      "text/plain": [
       "294"
      ]
     },
     "execution_count": 12,
     "metadata": {},
     "output_type": "execute_result"
    }
   ],
   "source": [
    "len(test_features)"
   ]
  },
  {
   "cell_type": "code",
   "execution_count": 14,
   "metadata": {
    "collapsed": true
   },
   "outputs": [],
   "source": [
    "assert(len(labels) == len(features))\n",
    "assert(len(test_labels) == len(test_features))"
   ]
  },
  {
   "cell_type": "code",
   "execution_count": 19,
   "metadata": {
    "collapsed": true
   },
   "outputs": [],
   "source": [
    "labels = pd.DataFrame(labels)\n",
    "test_labels = pd.DataFrame(test_labels)\n",
    "labels.to_csv('hr_labels.csv', index = False)\n",
    "features.to_csv('hr_features.csv', index = False)\n",
    "test_labels.to_csv('hr_test_labels.csv', index = False)\n",
    "test_features.to_csv('hr_test_features.csv', index = False)"
   ]
  },
  {
   "cell_type": "code",
   "execution_count": 29,
   "metadata": {
    "collapsed": true
   },
   "outputs": [],
   "source": [
    "def main():\n",
    "    wages = ['DailyRate', 'HourlyRate', 'MonthlyIncome', 'MonthlyRate']\n",
    "\n",
    "    to_dummy = ['BusinessTravel', 'Department', 'EducationField', 'Gender', 'JobRole', 'MaritalStatus', 'OverTime']##7\n",
    "\n",
    "    categorical = ['Education', 'EnvironmentSatisfaction', 'JobInvolvement', 'JobLevel', 'JobSatisfaction', \n",
    "               'PerformanceRating', 'RelationshipSatisfaction', 'StockOptionLevel', 'WorkLifeBalance'] ##9\n",
    "\n",
    "    to_continous = ['Age', 'DistanceFromHome', 'HourlyRate', 'NumCompaniesWorked', 'PercentSalaryHike',\n",
    "             'TotalWorkingYears', 'TrainingTimesLastYear', 'YearsAtCompany', 'YearsInCurrentRole', \n",
    "             'YearsSinceLastPromotion', 'YearsWithCurrManager', 'Education', 'EnvironmentSatisfaction',\n",
    "                'JobInvolvement', 'JobLevel', 'JobSatisfaction', \n",
    "               'PerformanceRating', 'RelationshipSatisfaction', 'StockOptionLevel', 'WorkLifeBalance'] ##11\n",
    "\n",
    "    to_drop = ['DailyRate', 'MonthlyIncome', 'MonthlyRate', 'Attrition',\n",
    "           'EmployeeCount','Over18', 'StandardHours', 'EmployeeNumber']\n",
    "    \n",
    "    df = pd.read_csv('hr_attrition.csv')\n",
    "    labels = get_labels(df)\n",
    "    df = drop_from_df(df, to_drop)\n",
    "    df_with_dummies = get_dummies(df)\n",
    "    dummy_scaled_df = get_scaled(df_with_dummies, to_continous)\n",
    "    labels = pd.DataFrame(labels)\n",
    "    features = dummy_scaled_df.copy()\n",
    "    \n",
    "    assert len(labels) == len(features)\n",
    "    labels.to_csv('hr_labels1.csv', index = False)\n",
    "    features.to_csv('hr_features1.csv', index = False)"
   ]
  },
  {
   "cell_type": "code",
   "execution_count": 30,
   "metadata": {
    "collapsed": true
   },
   "outputs": [],
   "source": [
    "if __name__ == '__main__':\n",
    "    main()"
   ]
  }
 ],
 "metadata": {
  "kernelspec": {
   "display_name": "Python 2",
   "language": "python",
   "name": "python2"
  },
  "language_info": {
   "codemirror_mode": {
    "name": "ipython",
    "version": 2
   },
   "file_extension": ".py",
   "mimetype": "text/x-python",
   "name": "python",
   "nbconvert_exporter": "python",
   "pygments_lexer": "ipython2",
   "version": "2.7.14"
  }
 },
 "nbformat": 4,
 "nbformat_minor": 2
}
